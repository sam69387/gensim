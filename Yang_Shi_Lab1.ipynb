{
  "nbformat": 4,
  "nbformat_minor": 0,
  "metadata": {
    "colab": {
      "name": "Yang_Shi_Lab1.ipynb",
      "version": "0.3.2",
      "provenance": [],
      "collapsed_sections": [],
      "toc_visible": true,
      "include_colab_link": true
    },
    "kernelspec": {
      "display_name": "Python [conda root]",
      "language": "python",
      "name": "conda-root-py"
    },
    "accelerator": "GPU"
  },
  "cells": [
    {
      "cell_type": "markdown",
      "metadata": {
        "id": "view-in-github",
        "colab_type": "text"
      },
      "source": [
        "<a href=\"https://colab.research.google.com/github/sam69387/gensim/blob/master/Yang_Shi_Lab1.ipynb\" target=\"_parent\"><img src=\"https://colab.research.google.com/assets/colab-badge.svg\" alt=\"Open In Colab\"/></a>"
      ]
    },
    {
      "metadata": {
        "collapsed": true,
        "id": "72hc3_ykfbTu",
        "colab_type": "text"
      },
      "cell_type": "markdown",
      "source": [
        "# DMA Assignment 1 - Data Preprocessing\n",
        "\n",
        "Data transformations are useful for preparing a dataset for answering a particular question. Part of this process involves generating features from the dataset you find relevant to the question at hand. For this lab, we will be using a Yelp reviews dataset. Each row in the dataset depicts one review along with the features of the review (the reviewer, the review text, etc.). The goal of this lab is to convert this reviews dataset into a reviewers dataset by creating different features of each reviewer.\n",
        "\n",
        "The submission for this assignment should be done *individually*, although you are allowed to work in groups of 2.\n",
        "\n"
      ]
    },
    {
      "metadata": {
        "id": "RqiCoZUUn9Y8",
        "colab_type": "text"
      },
      "cell_type": "markdown",
      "source": [
        "# Environment Setup\n",
        "Run this cell to setup your environment."
      ]
    },
    {
      "metadata": {
        "id": "mxzKVAdioO_2",
        "colab_type": "code",
        "outputId": "a86ba3ff-2440-4e4a-bef4-9bddddfa732f",
        "colab": {
          "base_uri": "https://localhost:8080/",
          "height": 615
        }
      },
      "cell_type": "code",
      "source": [
        "# Importing libraries\n",
        "import pandas as pd\n",
        "import math\n",
        "import numpy as np\n",
        "print('Libraries Imported')\n",
        "\n",
        "#DOWNLOADING DATASET\n",
        "!wget http://people.ischool.berkeley.edu/~zp/course_datasets/yelp_reviews.csv\n",
        "#!unzip yelp_reviews.zip\n",
        "print('Dataset Downloaded: yelp_reviews.csv')\n",
        "df=pd.read_csv('yelp_reviews.csv')\n",
        "print(df.head())\n",
        "\n",
        "print('Setup Complete')"
      ],
      "execution_count": 0,
      "outputs": [
        {
          "output_type": "stream",
          "text": [
            "Libraries Imported\n",
            "--2019-02-07 17:05:08--  http://people.ischool.berkeley.edu/~zp/course_datasets/yelp_reviews.csv\n",
            "Resolving people.ischool.berkeley.edu (people.ischool.berkeley.edu)... 128.32.78.16\n",
            "Connecting to people.ischool.berkeley.edu (people.ischool.berkeley.edu)|128.32.78.16|:80... connected.\n",
            "HTTP request sent, awaiting response... 200 OK\n",
            "Length: 376638166 (359M) [text/csv]\n",
            "Saving to: ‘yelp_reviews.csv.6’\n",
            "\n",
            "yelp_reviews.csv.6  100%[===================>] 359.19M  1.81MB/s    in 84s     \n",
            "\n",
            "2019-02-07 17:06:31 (4.29 MB/s) - ‘yelp_reviews.csv.6’ saved [376638166/376638166]\n",
            "\n",
            "Dataset Downloaded: yelp_reviews.csv\n",
            "     type             business_id                 user_id  stars  \\\n",
            "0  review  mxrXVZWc6PWk81gvOVNOUw  mv7shusL4Xb6TylVYBv4CA      4   \n",
            "1  review  mxrXVZWc6PWk81gvOVNOUw  0aN5QPhs-VwK2vusKG0waQ      5   \n",
            "2  review  kK4AzZ0YWI-U2G-paAL7Fg  0aN5QPhs-VwK2vusKG0waQ      5   \n",
            "3  review  mxrXVZWc6PWk81gvOVNOUw  1JUwyYab-uJzEx_FRd81Zg      5   \n",
            "4  review  mxrXVZWc6PWk81gvOVNOUw  2Zd3Xy8hUVmZkNg7RyNjhg      4   \n",
            "\n",
            "                                                text        date  cool_votes  \\\n",
            "0  Definitely try the duck dish.   I rank it amon...  2011-06-13           0   \n",
            "1  Big Ass Burger was awesome! Great $5 mojitos. ...  2011-06-25           1   \n",
            "2             Unbelievable sandwiches! Good service.  2011-06-25           0   \n",
            "3  Awesome, awesome, awesome! My mom and sister a...  2011-07-18           1   \n",
            "4  I had the ribs they were great.  The beer sele...  2011-07-19           1   \n",
            "\n",
            "   useful_votes  funny_votes  \n",
            "0             0            0  \n",
            "1             0            0  \n",
            "2             0            0  \n",
            "3             1            0  \n",
            "4             0            1  \n",
            "Setup Complete\n"
          ],
          "name": "stdout"
        }
      ]
    },
    {
      "metadata": {
        "id": "zWnyq8b6nI3g",
        "colab_type": "text"
      },
      "cell_type": "markdown",
      "source": [
        "**Q1: What was the highest number of reviews for any one business_id?**\n",
        "- For this task, we will need to group the reviews dataset by business_id. This will aggregate data for each business, which is what we need. This can be done using [groupby](https://pandas.pydata.org/pandas-docs/stable/generated/pandas.DataFrame.groupby.html).\n",
        "    - ```yelp_businesses = yelp_dataset.groupby('business_id').size() ```\n",
        "    - The .size() counts the number of instances for each business_id, which gives us the number of reviews as each instance in this dataset is a review.\n",
        "    - The following command will sort this list, after which you can take note of the highest value: ```sorted_yelp_businesses = yelp_businesses.sort(ascending=False,inplace=False)```\n",
        "    - This approach allows you to see the data structure being used in the sort. A quicker approach to getting the max would be to use the max function: ```max(yelp_businesses)```\n",
        "<br>\n",
        "<br>"
      ]
    },
    {
      "metadata": {
        "id": "iAfNr1uVO_Se",
        "colab_type": "code",
        "outputId": "f4bdb58b-abdb-4cd0-88dc-2fc06133f773",
        "colab": {
          "base_uri": "https://localhost:8080/",
          "height": 68
        }
      },
      "cell_type": "code",
      "source": [
        "df.columns"
      ],
      "execution_count": 0,
      "outputs": [
        {
          "output_type": "execute_result",
          "data": {
            "text/plain": [
              "Index([u'type', u'business_id', u'user_id', u'stars', u'text', u'date',\n",
              "       u'cool_votes', u'useful_votes', u'funny_votes'],\n",
              "      dtype='object')"
            ]
          },
          "metadata": {
            "tags": []
          },
          "execution_count": 80
        }
      ]
    },
    {
      "metadata": {
        "id": "XzNYtx_XfbTw",
        "colab_type": "code",
        "outputId": "4f59efc5-9fe5-4b8c-9956-ce2eae8d6496",
        "colab": {
          "base_uri": "https://localhost:8080/",
          "height": 34
        }
      },
      "cell_type": "code",
      "source": [
        "grouped_reviews = df.groupby('business_id').size()\n",
        "max(grouped_reviews)"
      ],
      "execution_count": 0,
      "outputs": [
        {
          "output_type": "execute_result",
          "data": {
            "text/plain": [
              "4128"
            ]
          },
          "metadata": {
            "tags": []
          },
          "execution_count": 81
        }
      ]
    },
    {
      "metadata": {
        "id": "UTXmcsbFGOy3",
        "colab_type": "text"
      },
      "cell_type": "markdown",
      "source": [
        "###Answer:4128"
      ]
    },
    {
      "metadata": {
        "id": "JizBl1PdpRfM",
        "colab_type": "text"
      },
      "cell_type": "markdown",
      "source": [
        "**Q2: What was the average number of reviews for a business_id?**"
      ]
    },
    {
      "metadata": {
        "id": "U4bwtmdj61yi",
        "colab_type": "code",
        "outputId": "26e27c4d-001d-4482-d4f3-3d6eef7d3594",
        "colab": {
          "base_uri": "https://localhost:8080/",
          "height": 34
        }
      },
      "cell_type": "code",
      "source": [
        "grouped_reviews.mean()"
      ],
      "execution_count": 0,
      "outputs": [
        {
          "output_type": "execute_result",
          "data": {
            "text/plain": [
              "12.63413902163123"
            ]
          },
          "metadata": {
            "tags": []
          },
          "execution_count": 82
        }
      ]
    },
    {
      "metadata": {
        "id": "TDuk6chcGTir",
        "colab_type": "text"
      },
      "cell_type": "markdown",
      "source": [
        "###Answer:12.63413902163123"
      ]
    },
    {
      "metadata": {
        "id": "t2G7HoujpakU",
        "colab_type": "text"
      },
      "cell_type": "markdown",
      "source": [
        "**Q3: What is the average number of reviews per reviewer?**"
      ]
    },
    {
      "metadata": {
        "id": "EFR_clfL7Uiu",
        "colab_type": "code",
        "outputId": "1a795b2d-396b-4c42-9f36-897861c5cb9e",
        "colab": {
          "base_uri": "https://localhost:8080/",
          "height": 34
        }
      },
      "cell_type": "code",
      "source": [
        "grouped_reviewers = df.groupby('user_id').size()\n",
        "grouped_reviewers.mean()"
      ],
      "execution_count": 0,
      "outputs": [
        {
          "output_type": "execute_result",
          "data": {
            "text/plain": [
              "3.188511934933203"
            ]
          },
          "metadata": {
            "tags": []
          },
          "execution_count": 83
        }
      ]
    },
    {
      "metadata": {
        "id": "z7iOiTo7GVud",
        "colab_type": "text"
      },
      "cell_type": "markdown",
      "source": [
        "###Answer:3.188511934933203"
      ]
    },
    {
      "metadata": {
        "id": "RuldYIp7XWBo",
        "colab_type": "text"
      },
      "cell_type": "markdown",
      "source": [
        "**Q4: What is the average number of cool votes per reviewer?**"
      ]
    },
    {
      "metadata": {
        "id": "4khicGdwX8rL",
        "colab_type": "code",
        "outputId": "f453eae7-7277-472c-818e-893111d983f9",
        "colab": {
          "base_uri": "https://localhost:8080/",
          "height": 34
        }
      },
      "cell_type": "code",
      "source": [
        "grouped_reviewers_sum = df.groupby('user_id').sum()\n",
        "grouped_reviewers_sum.mean()['cool_votes']"
      ],
      "execution_count": 0,
      "outputs": [
        {
          "output_type": "execute_result",
          "data": {
            "text/plain": [
              "1.2417282785380945"
            ]
          },
          "metadata": {
            "tags": []
          },
          "execution_count": 84
        }
      ]
    },
    {
      "metadata": {
        "id": "hR-HDXbRGXu1",
        "colab_type": "text"
      },
      "cell_type": "markdown",
      "source": [
        "###Answer:1.2417282785380945"
      ]
    },
    {
      "metadata": {
        "id": "zDGoIWHPXWZk",
        "colab_type": "text"
      },
      "cell_type": "markdown",
      "source": [
        "**Q5: What is the average number of funny votes per reviewer?**"
      ]
    },
    {
      "metadata": {
        "id": "mIMsnT-uXlLr",
        "colab_type": "code",
        "outputId": "7d2e4819-0af7-4e34-d4c8-902537fb2a48",
        "colab": {
          "base_uri": "https://localhost:8080/",
          "height": 34
        }
      },
      "cell_type": "code",
      "source": [
        "grouped_reviewers_sum.mean()['funny_votes']"
      ],
      "execution_count": 0,
      "outputs": [
        {
          "output_type": "execute_result",
          "data": {
            "text/plain": [
              "1.10126486404605"
            ]
          },
          "metadata": {
            "tags": []
          },
          "execution_count": 85
        }
      ]
    },
    {
      "metadata": {
        "id": "-d-ZQCHDGYyX",
        "colab_type": "text"
      },
      "cell_type": "markdown",
      "source": [
        "###Answer:1.10126486404605\n",
        "\n"
      ]
    },
    {
      "metadata": {
        "id": "JeVxqN8wplTO",
        "colab_type": "text"
      },
      "cell_type": "markdown",
      "source": [
        "**Q6: What is the average number of useful votes per reviewer?**"
      ]
    },
    {
      "metadata": {
        "id": "BAyROnswnQxs",
        "colab_type": "code",
        "outputId": "e451f817-c5b9-4d0d-b2cd-1b24d676cf22",
        "colab": {
          "base_uri": "https://localhost:8080/",
          "height": 34
        }
      },
      "cell_type": "code",
      "source": [
        "grouped_reviewers_sum.mean()['useful_votes']"
      ],
      "execution_count": 0,
      "outputs": [
        {
          "output_type": "execute_result",
          "data": {
            "text/plain": [
              "2.484476138872867"
            ]
          },
          "metadata": {
            "tags": []
          },
          "execution_count": 86
        }
      ]
    },
    {
      "metadata": {
        "id": "C2QZcSYvGbdI",
        "colab_type": "text"
      },
      "cell_type": "markdown",
      "source": [
        "###Answer:2.484476138872867"
      ]
    },
    {
      "metadata": {
        "id": "tHWfa5zjpj5s",
        "colab_type": "text"
      },
      "cell_type": "markdown",
      "source": [
        "**Q7: What is the average of the log of the number of reviews per reviewer?**"
      ]
    },
    {
      "metadata": {
        "id": "4YN-p3X1nQ1L",
        "colab_type": "code",
        "outputId": "4808c6c9-6a01-41f3-fe7f-6bbf7946e8e3",
        "colab": {
          "base_uri": "https://localhost:8080/",
          "height": 34
        }
      },
      "cell_type": "code",
      "source": [
        "grouped_reviewers.head()\n",
        "np.log(grouped_reviewers).mean()"
      ],
      "execution_count": 0,
      "outputs": [
        {
          "output_type": "execute_result",
          "data": {
            "text/plain": [
              "0.7681766036714884"
            ]
          },
          "metadata": {
            "tags": []
          },
          "execution_count": 87
        }
      ]
    },
    {
      "metadata": {
        "id": "QN60GJQdGckK",
        "colab_type": "text"
      },
      "cell_type": "markdown",
      "source": [
        "###Answer:0.7681766036714884"
      ]
    },
    {
      "metadata": {
        "id": "nojIBjkgrB4D",
        "colab_type": "text"
      },
      "cell_type": "markdown",
      "source": [
        "**Q8: What is the average of the log of the number of cool votes per reviewer?**"
      ]
    },
    {
      "metadata": {
        "id": "RLOtQ-B2mXNj",
        "colab_type": "code",
        "outputId": "319bcc95-eb83-429e-e670-a149fbca6ce4",
        "colab": {
          "base_uri": "https://localhost:8080/",
          "height": 88
        }
      },
      "cell_type": "code",
      "source": [
        "np.log(grouped_reviewers_sum)['cool_votes'].mean()"
      ],
      "execution_count": 0,
      "outputs": [
        {
          "output_type": "stream",
          "text": [
            "/usr/local/lib/python2.7/dist-packages/ipykernel_launcher.py:1: RuntimeWarning: divide by zero encountered in log\n",
            "  \"\"\"Entry point for launching an IPython kernel.\n"
          ],
          "name": "stderr"
        },
        {
          "output_type": "execute_result",
          "data": {
            "text/plain": [
              "-inf"
            ]
          },
          "metadata": {
            "tags": []
          },
          "execution_count": 88
        }
      ]
    },
    {
      "metadata": {
        "id": "b98WjSIOGdu8",
        "colab_type": "text"
      },
      "cell_type": "markdown",
      "source": [
        "###Answer:-inf"
      ]
    },
    {
      "metadata": {
        "id": "D86RBgXcrERi",
        "colab_type": "text"
      },
      "cell_type": "markdown",
      "source": [
        "**Q9: What is the average of the log of the number of funny votes per reviewer?**"
      ]
    },
    {
      "metadata": {
        "id": "UGjnQC4SmXTe",
        "colab_type": "code",
        "outputId": "738da447-2690-48f5-f905-fe990b141f79",
        "colab": {
          "base_uri": "https://localhost:8080/",
          "height": 88
        }
      },
      "cell_type": "code",
      "source": [
        "np.log(grouped_reviewers_sum)['funny_votes'].mean()"
      ],
      "execution_count": 0,
      "outputs": [
        {
          "output_type": "stream",
          "text": [
            "/usr/local/lib/python2.7/dist-packages/ipykernel_launcher.py:1: RuntimeWarning: divide by zero encountered in log\n",
            "  \"\"\"Entry point for launching an IPython kernel.\n"
          ],
          "name": "stderr"
        },
        {
          "output_type": "execute_result",
          "data": {
            "text/plain": [
              "-inf"
            ]
          },
          "metadata": {
            "tags": []
          },
          "execution_count": 89
        }
      ]
    },
    {
      "metadata": {
        "id": "8FpuuY10GfAd",
        "colab_type": "text"
      },
      "cell_type": "markdown",
      "source": [
        "###Answer:-inf"
      ]
    },
    {
      "metadata": {
        "id": "1UMVPcW1rFEi",
        "colab_type": "text"
      },
      "cell_type": "markdown",
      "source": [
        "**Q10: What is the average of the log of the number of useful votes per reviewer?**"
      ]
    },
    {
      "metadata": {
        "id": "MX0tbdENmXWw",
        "colab_type": "code",
        "outputId": "b6148635-092e-4d2c-cf38-a60e4d859a56",
        "colab": {
          "base_uri": "https://localhost:8080/",
          "height": 88
        }
      },
      "cell_type": "code",
      "source": [
        "np.log(grouped_reviewers_sum)['funny_votes'].mean()\n"
      ],
      "execution_count": 0,
      "outputs": [
        {
          "output_type": "stream",
          "text": [
            "/usr/local/lib/python2.7/dist-packages/ipykernel_launcher.py:1: RuntimeWarning: divide by zero encountered in log\n",
            "  \"\"\"Entry point for launching an IPython kernel.\n"
          ],
          "name": "stderr"
        },
        {
          "output_type": "execute_result",
          "data": {
            "text/plain": [
              "-inf"
            ]
          },
          "metadata": {
            "tags": []
          },
          "execution_count": 90
        }
      ]
    },
    {
      "metadata": {
        "id": "6P4VvvjUGgHO",
        "colab_type": "text"
      },
      "cell_type": "markdown",
      "source": [
        "###Answer:-inf"
      ]
    },
    {
      "metadata": {
        "id": "fBVz_pN9rkiz",
        "colab_type": "text"
      },
      "cell_type": "markdown",
      "source": [
        "**Q11: Find the average of the percentage of total cool votes out of total votes for each reviewer.**"
      ]
    },
    {
      "metadata": {
        "id": "wrEjp_yQmXaC",
        "colab_type": "code",
        "outputId": "4853cbc7-f5b2-4566-b18d-d341501af466",
        "colab": {
          "base_uri": "https://localhost:8080/",
          "height": 34
        }
      },
      "cell_type": "code",
      "source": [
        "grouped_reviewers_sum['total_votes'] = np.sum(grouped_reviewers_sum.loc[:,'cool_votes':'funny_votes'],axis=1)\n",
        "grouped_reviewers_sum['cool_percent'] = grouped_reviewers_sum['cool_votes']/grouped_reviewers_sum['total_votes']\n",
        "'{:.4%}'.format(grouped_reviewers_sum.mean()['cool_percent'])"
      ],
      "execution_count": 0,
      "outputs": [
        {
          "output_type": "execute_result",
          "data": {
            "text/plain": [
              "'19.2704%'"
            ]
          },
          "metadata": {
            "tags": []
          },
          "execution_count": 91
        }
      ]
    },
    {
      "metadata": {
        "id": "Q36BJOElGhQp",
        "colab_type": "text"
      },
      "cell_type": "markdown",
      "source": [
        "###Answer:19.2704%"
      ]
    },
    {
      "metadata": {
        "id": "bEHQbW8YrlI-",
        "colab_type": "text"
      },
      "cell_type": "markdown",
      "source": [
        "**Q12: Find the average of the percentage of total funny votes out of total votes for each reviewer.**"
      ]
    },
    {
      "metadata": {
        "id": "XZCfq1kVmXdE",
        "colab_type": "code",
        "outputId": "ed3d80ab-a6af-40a0-cf04-fcb4c08af349",
        "colab": {
          "base_uri": "https://localhost:8080/",
          "height": 34
        }
      },
      "cell_type": "code",
      "source": [
        "grouped_reviewers_sum['funny_percent'] = grouped_reviewers_sum['funny_votes']/grouped_reviewers_sum['total_votes']\n",
        "'{:.4%}'.format(grouped_reviewers_sum.mean()['funny_percent'])\n"
      ],
      "execution_count": 0,
      "outputs": [
        {
          "output_type": "execute_result",
          "data": {
            "text/plain": [
              "'18.2564%'"
            ]
          },
          "metadata": {
            "tags": []
          },
          "execution_count": 92
        }
      ]
    },
    {
      "metadata": {
        "id": "dXcjCm9oGiMu",
        "colab_type": "text"
      },
      "cell_type": "markdown",
      "source": [
        "###Answer:18.2564%"
      ]
    },
    {
      "metadata": {
        "id": "LEDrDGt1rlvO",
        "colab_type": "text"
      },
      "cell_type": "markdown",
      "source": [
        "**Q13: Find the average of the percentage of total useful votes out of total votes for each reviewer.**"
      ]
    },
    {
      "metadata": {
        "id": "7Kh3IYkOmXf9",
        "colab_type": "code",
        "outputId": "740f4096-6572-4edd-8f2d-5eed2fce38d8",
        "colab": {
          "base_uri": "https://localhost:8080/",
          "height": 34
        }
      },
      "cell_type": "code",
      "source": [
        "grouped_reviewers_sum['useful_percent'] = grouped_reviewers_sum['useful_votes']/grouped_reviewers_sum['total_votes']\n",
        "'{:.4%}'.format(grouped_reviewers_sum.mean()['useful_percent'])\n"
      ],
      "execution_count": 0,
      "outputs": [
        {
          "output_type": "execute_result",
          "data": {
            "text/plain": [
              "'62.4732%'"
            ]
          },
          "metadata": {
            "tags": []
          },
          "execution_count": 93
        }
      ]
    },
    {
      "metadata": {
        "id": "Y18ohMLRGjKq",
        "colab_type": "text"
      },
      "cell_type": "markdown",
      "source": [
        "Answer:62.4732%"
      ]
    },
    {
      "metadata": {
        "id": "ZkRDo2zhrmhp",
        "colab_type": "text"
      },
      "cell_type": "markdown",
      "source": [
        "**Q14: Average review text length (in non-space characters)**"
      ]
    },
    {
      "metadata": {
        "id": "KdV6YJ1tmXjY",
        "colab_type": "code",
        "outputId": "ed8656bd-e22a-4d9b-9c2e-f473721b9a3e",
        "colab": {
          "base_uri": "https://localhost:8080/",
          "height": 34
        }
      },
      "cell_type": "code",
      "source": [
        "df['text_length'] = df['text'].str.len() - df['text'].str.count(' ')\n",
        "df['text_length'].mean()"
      ],
      "execution_count": 0,
      "outputs": [
        {
          "output_type": "execute_result",
          "data": {
            "text/plain": [
              "499.18610090393645"
            ]
          },
          "metadata": {
            "tags": []
          },
          "execution_count": 94
        }
      ]
    },
    {
      "metadata": {
        "id": "SNDRRvUMGkNh",
        "colab_type": "text"
      },
      "cell_type": "markdown",
      "source": [
        "Answer: 499.18610090393645"
      ]
    },
    {
      "metadata": {
        "id": "f0yRvysDr6Dm",
        "colab_type": "text"
      },
      "cell_type": "markdown",
      "source": [
        "**Q15: Year in which the reviewer wrote the most reviews. Once you have this for each reviewer, subtract the minimum possible year (2005) from each so that your final feature values are 0, 1, 2 etc.**"
      ]
    },
    {
      "metadata": {
        "id": "tr0hsljGnQ4o",
        "colab_type": "code",
        "colab": {}
      },
      "cell_type": "code",
      "source": [
        "df['date'] = pd.to_datetime(df['date'], format = '%Y-%m-%d')\n",
        "df['year'] = df['date'].dt.year\n",
        "df['year_gap'] = df['year'] - 2005"
      ],
      "execution_count": 0,
      "outputs": []
    },
    {
      "metadata": {
        "id": "p-GcmuXzQaQ9",
        "colab_type": "code",
        "outputId": "acf4ce66-3a7f-41fc-c9a6-964414323665",
        "colab": {
          "base_uri": "https://localhost:8080/",
          "height": 462
        }
      },
      "cell_type": "code",
      "source": [
        "df['length_ranked'] = df.groupby('user_id')['text_length'].rank(ascending=False)\n",
        "df.sort_values('length_ranked', ascending=False).drop_duplicates('user_id').sort_index().head()"
      ],
      "execution_count": 0,
      "outputs": [
        {
          "output_type": "execute_result",
          "data": {
            "text/html": [
              "<div>\n",
              "<style scoped>\n",
              "    .dataframe tbody tr th:only-of-type {\n",
              "        vertical-align: middle;\n",
              "    }\n",
              "\n",
              "    .dataframe tbody tr th {\n",
              "        vertical-align: top;\n",
              "    }\n",
              "\n",
              "    .dataframe thead th {\n",
              "        text-align: right;\n",
              "    }\n",
              "</style>\n",
              "<table border=\"1\" class=\"dataframe\">\n",
              "  <thead>\n",
              "    <tr style=\"text-align: right;\">\n",
              "      <th></th>\n",
              "      <th>type</th>\n",
              "      <th>business_id</th>\n",
              "      <th>user_id</th>\n",
              "      <th>stars</th>\n",
              "      <th>text</th>\n",
              "      <th>date</th>\n",
              "      <th>cool_votes</th>\n",
              "      <th>useful_votes</th>\n",
              "      <th>funny_votes</th>\n",
              "      <th>text_length</th>\n",
              "      <th>year</th>\n",
              "      <th>year_gap</th>\n",
              "      <th>length_ranked</th>\n",
              "    </tr>\n",
              "  </thead>\n",
              "  <tbody>\n",
              "    <tr>\n",
              "      <th>0</th>\n",
              "      <td>review</td>\n",
              "      <td>mxrXVZWc6PWk81gvOVNOUw</td>\n",
              "      <td>mv7shusL4Xb6TylVYBv4CA</td>\n",
              "      <td>4</td>\n",
              "      <td>Definitely try the duck dish.   I rank it amon...</td>\n",
              "      <td>2011-06-13</td>\n",
              "      <td>0</td>\n",
              "      <td>0</td>\n",
              "      <td>0</td>\n",
              "      <td>162</td>\n",
              "      <td>2011</td>\n",
              "      <td>6</td>\n",
              "      <td>1.0</td>\n",
              "    </tr>\n",
              "    <tr>\n",
              "      <th>2</th>\n",
              "      <td>review</td>\n",
              "      <td>kK4AzZ0YWI-U2G-paAL7Fg</td>\n",
              "      <td>0aN5QPhs-VwK2vusKG0waQ</td>\n",
              "      <td>5</td>\n",
              "      <td>Unbelievable sandwiches! Good service.</td>\n",
              "      <td>2011-06-25</td>\n",
              "      <td>0</td>\n",
              "      <td>0</td>\n",
              "      <td>0</td>\n",
              "      <td>35</td>\n",
              "      <td>2011</td>\n",
              "      <td>6</td>\n",
              "      <td>2.0</td>\n",
              "    </tr>\n",
              "    <tr>\n",
              "      <th>3</th>\n",
              "      <td>review</td>\n",
              "      <td>mxrXVZWc6PWk81gvOVNOUw</td>\n",
              "      <td>1JUwyYab-uJzEx_FRd81Zg</td>\n",
              "      <td>5</td>\n",
              "      <td>Awesome, awesome, awesome! My mom and sister a...</td>\n",
              "      <td>2011-07-18</td>\n",
              "      <td>1</td>\n",
              "      <td>1</td>\n",
              "      <td>0</td>\n",
              "      <td>257</td>\n",
              "      <td>2011</td>\n",
              "      <td>6</td>\n",
              "      <td>1.0</td>\n",
              "    </tr>\n",
              "    <tr>\n",
              "      <th>18</th>\n",
              "      <td>review</td>\n",
              "      <td>Cr2JNnewX53TYd9w6qw6Jw</td>\n",
              "      <td>2Zd3Xy8hUVmZkNg7RyNjhg</td>\n",
              "      <td>4</td>\n",
              "      <td>Good burger good value.</td>\n",
              "      <td>2011-07-26</td>\n",
              "      <td>0</td>\n",
              "      <td>1</td>\n",
              "      <td>0</td>\n",
              "      <td>20</td>\n",
              "      <td>2011</td>\n",
              "      <td>6</td>\n",
              "      <td>17.0</td>\n",
              "    </tr>\n",
              "    <tr>\n",
              "      <th>24</th>\n",
              "      <td>review</td>\n",
              "      <td>IwShjaQLAvqV2msU4bh3ww</td>\n",
              "      <td>fuGfZWfDFf97d6UyuO3d8w</td>\n",
              "      <td>5</td>\n",
              "      <td>This place is a Gem! It's small, dont get me w...</td>\n",
              "      <td>2013-11-28</td>\n",
              "      <td>0</td>\n",
              "      <td>0</td>\n",
              "      <td>0</td>\n",
              "      <td>108</td>\n",
              "      <td>2013</td>\n",
              "      <td>8</td>\n",
              "      <td>4.0</td>\n",
              "    </tr>\n",
              "  </tbody>\n",
              "</table>\n",
              "</div>"
            ],
            "text/plain": [
              "      type             business_id                 user_id  stars  \\\n",
              "0   review  mxrXVZWc6PWk81gvOVNOUw  mv7shusL4Xb6TylVYBv4CA      4   \n",
              "2   review  kK4AzZ0YWI-U2G-paAL7Fg  0aN5QPhs-VwK2vusKG0waQ      5   \n",
              "3   review  mxrXVZWc6PWk81gvOVNOUw  1JUwyYab-uJzEx_FRd81Zg      5   \n",
              "18  review  Cr2JNnewX53TYd9w6qw6Jw  2Zd3Xy8hUVmZkNg7RyNjhg      4   \n",
              "24  review  IwShjaQLAvqV2msU4bh3ww  fuGfZWfDFf97d6UyuO3d8w      5   \n",
              "\n",
              "                                                 text       date  cool_votes  \\\n",
              "0   Definitely try the duck dish.   I rank it amon... 2011-06-13           0   \n",
              "2              Unbelievable sandwiches! Good service. 2011-06-25           0   \n",
              "3   Awesome, awesome, awesome! My mom and sister a... 2011-07-18           1   \n",
              "18                            Good burger good value. 2011-07-26           0   \n",
              "24  This place is a Gem! It's small, dont get me w... 2013-11-28           0   \n",
              "\n",
              "    useful_votes  funny_votes  text_length  year  year_gap  length_ranked  \n",
              "0              0            0          162  2011         6            1.0  \n",
              "2              0            0           35  2011         6            2.0  \n",
              "3              1            0          257  2011         6            1.0  \n",
              "18             1            0           20  2011         6           17.0  \n",
              "24             0            0          108  2013         8            4.0  "
            ]
          },
          "metadata": {
            "tags": []
          },
          "execution_count": 96
        }
      ]
    },
    {
      "metadata": {
        "id": "N9kpeJbUGlL2",
        "colab_type": "text"
      },
      "cell_type": "markdown",
      "source": [
        "###Answer:[6, 9, 3, 11, 11, ..., 9, 10, 10, 11]"
      ]
    },
    {
      "metadata": {
        "id": "YDRKDfvoArUk",
        "colab_type": "text"
      },
      "cell_type": "markdown",
      "source": [
        "**Q16: Come up with a new feature. This may be derived from existing features. Give your feature the name ** *my_new_feature.* **Dsiplay head() of this new feature.**"
      ]
    },
    {
      "metadata": {
        "id": "1icFU-hmBJwY",
        "colab_type": "code",
        "outputId": "193e7b0b-d71d-45ef-a5cc-4fb48ff714fd",
        "colab": {
          "base_uri": "https://localhost:8080/",
          "height": 119
        }
      },
      "cell_type": "code",
      "source": [
        "df['5-star review'] = np.where(df['stars']==5,'Yes','No')\n",
        "df['5-star review'].head()"
      ],
      "execution_count": 0,
      "outputs": [
        {
          "output_type": "execute_result",
          "data": {
            "text/plain": [
              "0     No\n",
              "1    Yes\n",
              "2    Yes\n",
              "3    Yes\n",
              "4     No\n",
              "Name: 5-star review, dtype: object"
            ]
          },
          "metadata": {
            "tags": []
          },
          "execution_count": 97
        }
      ]
    },
    {
      "metadata": {
        "id": "zZit6VOqGl8Y",
        "colab_type": "text"
      },
      "cell_type": "markdown",
      "source": [
        "Answer: Yes / No"
      ]
    }
  ]
}